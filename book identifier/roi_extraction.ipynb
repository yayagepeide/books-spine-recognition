{
 "cells": [
  {
   "cell_type": "code",
   "execution_count": 36,
   "metadata": {},
   "outputs": [
    {
     "name": "stdout",
     "output_type": "stream",
     "text": [
      "ok\n"
     ]
    }
   ],
   "source": [
    "import cv2\n",
    "img = cv2.imread('books.jpg')\n",
    "height_step = 55\n",
    "width_step = 55\n",
    "original_y_coordinate = 480\n",
    "original_x_coordinate = 125\n",
    "left_to_right_book_sequence_number = 1\n",
    "i=original_x_coordinate + width_step\n",
    "x_coordinate_of_right_corner = 400\n",
    "y_coordinate_of_right_corner = 755\n",
    "for number in range(original_x_coordinate + width_step, \n",
    "                    x_coordinate_of_right_corner + width_step,width_step ):\n",
    "    roi = img[original_y_coordinate:y_coordinate_of_right_corner,\n",
    "              number-width_step:number] \n",
    "    cv2.imwrite(\"roipictures/sequence_%d.jpg\"%left_to_right_book_sequence_number ,roi)\n",
    "    left_to_right_book_sequence_number=left_to_right_book_sequence_number+1\n",
    "    \n",
    "print('ok')\n"
   ]
  },
  {
   "cell_type": "code",
   "execution_count": 18,
   "metadata": {},
   "outputs": [
    {
     "name": "stdout",
     "output_type": "stream",
     "text": [
      "180\n",
      "235\n",
      "290\n",
      "345\n",
      "400\n"
     ]
    }
   ],
   "source": [
    "for number in range(125+55, 400+55, 55):\n",
    "    print(number)"
   ]
  },
  {
   "cell_type": "code",
   "execution_count": null,
   "metadata": {
    "collapsed": true
   },
   "outputs": [],
   "source": []
  }
 ],
 "metadata": {
  "kernelspec": {
   "display_name": "Python 3",
   "language": "python",
   "name": "python3"
  },
  "language_info": {
   "codemirror_mode": {
    "name": "ipython",
    "version": 3
   },
   "file_extension": ".py",
   "mimetype": "text/x-python",
   "name": "python",
   "nbconvert_exporter": "python",
   "pygments_lexer": "ipython3",
   "version": "3.6.3"
  }
 },
 "nbformat": 4,
 "nbformat_minor": 2
}
